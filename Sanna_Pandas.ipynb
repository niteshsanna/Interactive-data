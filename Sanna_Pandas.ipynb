{
 "cells": [
  {
   "cell_type": "code",
   "execution_count": 1,
   "id": "318f2493",
   "metadata": {},
   "outputs": [],
   "source": [
    "#importing pandas\n",
    "import pandas as pd"
   ]
  },
  {
   "cell_type": "code",
   "execution_count": 2,
   "id": "3344cbba",
   "metadata": {},
   "outputs": [],
   "source": [
    "# Create a DataFrame with three columns and three rows\n",
    "data=[['Witcher 3','Single','Fantasy'],\n",
    "      ['RDR2','Single','Cowboy'],\n",
    "      ['PUBG','Multi','Shooting']]"
   ]
  },
  {
   "cell_type": "code",
   "execution_count": 3,
   "id": "0bf0ae39",
   "metadata": {},
   "outputs": [],
   "source": [
    "\n",
    "#data to DataFrame\n",
    "df=pd.DataFrame(data, columns=['Game','Type','Genre'])"
   ]
  },
  {
   "cell_type": "code",
   "execution_count": 4,
   "id": "428b7ad2",
   "metadata": {},
   "outputs": [
    {
     "data": {
      "text/html": [
       "<div>\n",
       "<style scoped>\n",
       "    .dataframe tbody tr th:only-of-type {\n",
       "        vertical-align: middle;\n",
       "    }\n",
       "\n",
       "    .dataframe tbody tr th {\n",
       "        vertical-align: top;\n",
       "    }\n",
       "\n",
       "    .dataframe thead th {\n",
       "        text-align: right;\n",
       "    }\n",
       "</style>\n",
       "<table border=\"1\" class=\"dataframe\">\n",
       "  <thead>\n",
       "    <tr style=\"text-align: right;\">\n",
       "      <th></th>\n",
       "      <th>Game</th>\n",
       "      <th>Type</th>\n",
       "      <th>Genre</th>\n",
       "    </tr>\n",
       "  </thead>\n",
       "  <tbody>\n",
       "    <tr>\n",
       "      <th>0</th>\n",
       "      <td>Witcher 3</td>\n",
       "      <td>Single</td>\n",
       "      <td>Fantasy</td>\n",
       "    </tr>\n",
       "    <tr>\n",
       "      <th>1</th>\n",
       "      <td>RDR2</td>\n",
       "      <td>Single</td>\n",
       "      <td>Cowboy</td>\n",
       "    </tr>\n",
       "    <tr>\n",
       "      <th>2</th>\n",
       "      <td>PUBG</td>\n",
       "      <td>Multi</td>\n",
       "      <td>Shooting</td>\n",
       "    </tr>\n",
       "  </tbody>\n",
       "</table>\n",
       "</div>"
      ],
      "text/plain": [
       "        Game    Type     Genre\n",
       "0  Witcher 3  Single   Fantasy\n",
       "1       RDR2  Single    Cowboy\n",
       "2       PUBG   Multi  Shooting"
      ]
     },
     "execution_count": 4,
     "metadata": {},
     "output_type": "execute_result"
    }
   ],
   "source": [
    "# head of the DataFrame\n",
    "df.head()"
   ]
  },
  {
   "cell_type": "code",
   "execution_count": 5,
   "id": "e11e3f1d",
   "metadata": {},
   "outputs": [
    {
     "data": {
      "text/plain": [
       "RangeIndex(start=0, stop=3, step=1)"
      ]
     },
     "execution_count": 5,
     "metadata": {},
     "output_type": "execute_result"
    }
   ],
   "source": [
    "# Index of the DataFrame\n",
    "df.index"
   ]
  },
  {
   "cell_type": "code",
   "execution_count": 6,
   "id": "c397dd82",
   "metadata": {},
   "outputs": [
    {
     "data": {
      "text/plain": [
       "0    Witcher 3\n",
       "1         RDR2\n",
       "2         PUBG\n",
       "Name: Game, dtype: object"
      ]
     },
     "execution_count": 6,
     "metadata": {},
     "output_type": "execute_result"
    }
   ],
   "source": [
    "# The first column of the DataFrame\n",
    "df['Game']"
   ]
  },
  {
   "cell_type": "code",
   "execution_count": 7,
   "id": "f4f3eb65",
   "metadata": {},
   "outputs": [
    {
     "data": {
      "text/plain": [
       "Game     Witcher 3\n",
       "Type        Single\n",
       "Genre      Fantasy\n",
       "Name: 0, dtype: object"
      ]
     },
     "execution_count": 7,
     "metadata": {},
     "output_type": "execute_result"
    }
   ],
   "source": [
    "# The first row of the DataFrame\n",
    "df.loc[0]"
   ]
  },
  {
   "cell_type": "code",
   "execution_count": 8,
   "id": "8b599688",
   "metadata": {},
   "outputs": [],
   "source": [
    "\n",
    "# Create a DataFrame with three columns and three rows\n",
    "data={'Game':['Witcher 3','RDR2','PUBG'],\n",
    "      'Type':['Single','Single','Multi'],\n",
    "      'Genre':['Fantasy','Cowboy','Shooting']}"
   ]
  },
  {
   "cell_type": "code",
   "execution_count": 9,
   "id": "d5ed8c7c",
   "metadata": {},
   "outputs": [],
   "source": [
    "#Converting data to DataFrame\n",
    "df=pd.DataFrame(data)"
   ]
  },
  {
   "cell_type": "code",
   "execution_count": 10,
   "id": "9585ea05",
   "metadata": {},
   "outputs": [
    {
     "data": {
      "text/html": [
       "<div>\n",
       "<style scoped>\n",
       "    .dataframe tbody tr th:only-of-type {\n",
       "        vertical-align: middle;\n",
       "    }\n",
       "\n",
       "    .dataframe tbody tr th {\n",
       "        vertical-align: top;\n",
       "    }\n",
       "\n",
       "    .dataframe thead th {\n",
       "        text-align: right;\n",
       "    }\n",
       "</style>\n",
       "<table border=\"1\" class=\"dataframe\">\n",
       "  <thead>\n",
       "    <tr style=\"text-align: right;\">\n",
       "      <th></th>\n",
       "      <th>Game</th>\n",
       "      <th>Type</th>\n",
       "      <th>Genre</th>\n",
       "    </tr>\n",
       "  </thead>\n",
       "  <tbody>\n",
       "    <tr>\n",
       "      <th>0</th>\n",
       "      <td>Witcher 3</td>\n",
       "      <td>Single</td>\n",
       "      <td>Fantasy</td>\n",
       "    </tr>\n",
       "    <tr>\n",
       "      <th>1</th>\n",
       "      <td>RDR2</td>\n",
       "      <td>Single</td>\n",
       "      <td>Cowboy</td>\n",
       "    </tr>\n",
       "    <tr>\n",
       "      <th>2</th>\n",
       "      <td>PUBG</td>\n",
       "      <td>Multi</td>\n",
       "      <td>Shooting</td>\n",
       "    </tr>\n",
       "  </tbody>\n",
       "</table>\n",
       "</div>"
      ],
      "text/plain": [
       "        Game    Type     Genre\n",
       "0  Witcher 3  Single   Fantasy\n",
       "1       RDR2  Single    Cowboy\n",
       "2       PUBG   Multi  Shooting"
      ]
     },
     "execution_count": 10,
     "metadata": {},
     "output_type": "execute_result"
    }
   ],
   "source": [
    "df.head()"
   ]
  },
  {
   "cell_type": "code",
   "execution_count": 11,
   "id": "36f9b2b6",
   "metadata": {},
   "outputs": [],
   "source": [
    "# Write the DataFrame to a new CSV file\n",
    "df.to_csv('games.csv', index=False)"
   ]
  },
  {
   "cell_type": "markdown",
   "id": "f3bd7dad",
   "metadata": {},
   "source": [
    "**Question**:<br>\n",
    "What does the \"write/render/evaluate\" loop provide for creators of interactive data visualizations?<br>\n",
    "**Answer**:<br>\n",
    "The \"write/render/evaluate\" loop is a quick and effective approach that greatly improves the design process for those who create interactive data visualizations. Large datasets that would be difficult for designers to handle manually can be handled using this iterative technique by enabling them to write code fast to map data, display visualizations, and assess the outcomes. This loop's speed makes it possible to complete tasks that would require years of manual labor in a matter of minutes, enabling a more responsive and agile design process. This effectiveness is essential for experimenting with various mapping rules and visual representations, which can result in more creative and useful visualizations.<br>\n",
    "Furthermore, this loop's instantaneous feedback is crucial for improving ideas. Creators can make wise alterations depending on what works and what doesn't as they watch the outcomes of their code in real-time. The process of iterative evaluation facilitates a more profound comprehension of the interactions between various visual elements and the data, resulting in the creation of refined and perceptive visualizations. Being able to explore and iterate quickly not only improves the quality of the finished product but also increases the satisfaction of the creative process for designers who see their ideas come to life in a captivating and dynamic way.<br>\n",
    "\n",
    "**Question**: <br>\n",
    "Why are dynamic, interactive data visualizations useful when communicating data?<br>\n",
    "**Answer**:<br>\n",
    "1. User Engagement: By letting users explore the data on their own, dynamic, interactive data visualizations actively involve users. Users are encouraged to explore further into the offered material because of the interaction, which creates a sense of involvement and makes the experience more memorable.\n",
    "\n",
    "2. Personalized Exploration: Users can customize their exploration according to their questions and areas of interest with the help of these visuals. Users' comprehension of the data can be improved by enabling them to filter, zoom, and alter it to reveal insights that are most pertinent to them.\n",
    "\n",
    "3. Multidimensional Representation: Complex, multidimensional datasets that would be challenging to communicate in static formats can be effectively represented via interactive visuals. They can assist users understand complex patterns that they might not have observed otherwise by illuminating relationships, trends, and changes over time.\n",
    "\n",
    "4. Instant Feedback and Iteration: As users interact with the data, dynamic visuals give them instant feedback and let them see the effects of their actions in real time. This prompt reaction promotes experimentation and inquiry, which results in a more in-depth study and a clearer understanding of the underlying data.\n",
    "<br>\n",
    "\n",
    "**Question**: <br>\n",
    "Do you agree with Murray's claim that open-source tools that avoid proprietary software are best for publishing data visualization? In a few sentences, explain why you do or do not agree.<br>\n",
    "**Answer**:<br>\n",
    "* Propriate software frequently provides sophisticated capabilities, user-friendly interfaces, and committed customer service that can greatly improve the data visualization process, thus I disagree with Murray's assertion. For sophisticated visualization requirements, these tools could offer more powerful functionality, which can be essential for professional projects.\n",
    "\n",
    "* Performance and Integration: Proprietary software can also provide enhanced performance and efficiency through better integration with other tools and platforms. Proprietary solutions can sometimes yield better outputs and more efficient operations, which makes them a more sensible option for businesses with particular needs.\n",
    "<br>\n",
    "\n"
   ]
  },
  {
   "cell_type": "code",
   "execution_count": null,
   "id": "48e09eb8",
   "metadata": {},
   "outputs": [],
   "source": []
  }
 ],
 "metadata": {
  "kernelspec": {
   "display_name": "Python 3 (ipykernel)",
   "language": "python",
   "name": "python3"
  },
  "language_info": {
   "codemirror_mode": {
    "name": "ipython",
    "version": 3
   },
   "file_extension": ".py",
   "mimetype": "text/x-python",
   "name": "python",
   "nbconvert_exporter": "python",
   "pygments_lexer": "ipython3",
   "version": "3.10.13"
  }
 },
 "nbformat": 4,
 "nbformat_minor": 5
}
